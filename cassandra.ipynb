{
  "nbformat": 4,
  "nbformat_minor": 0,
  "metadata": {
    "colab": {
      "provenance": []
    },
    "kernelspec": {
      "name": "python3",
      "display_name": "Python 3"
    },
    "language_info": {
      "name": "python"
    }
  },
  "cells": [
    {
      "cell_type": "code",
      "source": [
        "!pip install cassandra-driver"
      ],
      "metadata": {
        "colab": {
          "base_uri": "https://localhost:8080/"
        },
        "id": "7hV7kAXci-Ff",
        "outputId": "2538b134-5af4-4224-d2a2-97848996b414"
      },
      "execution_count": 21,
      "outputs": [
        {
          "output_type": "stream",
          "name": "stdout",
          "text": [
            "Requirement already satisfied: cassandra-driver in /usr/local/lib/python3.10/dist-packages (3.29.2)\n",
            "Requirement already satisfied: geomet<0.3,>=0.1 in /usr/local/lib/python3.10/dist-packages (from cassandra-driver) (0.2.1.post1)\n",
            "Requirement already satisfied: click in /usr/local/lib/python3.10/dist-packages (from geomet<0.3,>=0.1->cassandra-driver) (8.1.7)\n",
            "Requirement already satisfied: six in /usr/local/lib/python3.10/dist-packages (from geomet<0.3,>=0.1->cassandra-driver) (1.16.0)\n"
          ]
        }
      ]
    },
    {
      "cell_type": "code",
      "execution_count": 22,
      "metadata": {
        "colab": {
          "base_uri": "https://localhost:8080/"
        },
        "id": "4faFrycAhmxq",
        "outputId": "2812e594-b95c-48ac-f64a-ae803d6d1dc1"
      },
      "outputs": [
        {
          "output_type": "stream",
          "name": "stderr",
          "text": [
            "WARNING:cassandra.cluster:Downgrading core protocol version from 66 to 65 for b092c335-623d-45ad-9ecd-b0e495e6ce0a-eu-west-1.db.astra.datastax.com:29042:9e3a5bee-3d95-3bf7-90f5-09bd2177324b. To avoid this, it is best practice to explicitly set Cluster(protocol_version) to the version supported by your cluster. http://datastax.github.io/python-driver/api/cassandra/cluster.html#cassandra.cluster.Cluster.protocol_version\n",
            "WARNING:cassandra.cluster:Downgrading core protocol version from 65 to 5 for b092c335-623d-45ad-9ecd-b0e495e6ce0a-eu-west-1.db.astra.datastax.com:29042:9e3a5bee-3d95-3bf7-90f5-09bd2177324b. To avoid this, it is best practice to explicitly set Cluster(protocol_version) to the version supported by your cluster. http://datastax.github.io/python-driver/api/cassandra/cluster.html#cassandra.cluster.Cluster.protocol_version\n",
            "WARNING:cassandra.cluster:Downgrading core protocol version from 5 to 4 for b092c335-623d-45ad-9ecd-b0e495e6ce0a-eu-west-1.db.astra.datastax.com:29042:9e3a5bee-3d95-3bf7-90f5-09bd2177324b. To avoid this, it is best practice to explicitly set Cluster(protocol_version) to the version supported by your cluster. http://datastax.github.io/python-driver/api/cassandra/cluster.html#cassandra.cluster.Cluster.protocol_version\n"
          ]
        },
        {
          "output_type": "stream",
          "name": "stdout",
          "text": [
            "Connected!\n"
          ]
        }
      ],
      "source": [
        "import json\n",
        "from cassandra.cluster import Cluster\n",
        "from cassandra.auth import PlainTextAuthProvider\n",
        "\n",
        "# Load credentials from JSON file\n",
        "with open(\"cassandra-token.json\") as f:\n",
        "    secrets = json.load(f)\n",
        "\n",
        "CLIENT_ID = secrets[\"clientId\"]\n",
        "CLIENT_SECRET = secrets[\"secret\"]\n",
        "\n",
        "# Connect to Cassandra\n",
        "auth_provider = PlainTextAuthProvider(CLIENT_ID, CLIENT_SECRET)\n",
        "cloud_config = {\"secure_connect_bundle\": \"secure-connect-cassandra.zip\"}\n",
        "cluster = Cluster(cloud=cloud_config, auth_provider=auth_provider)\n",
        "session = cluster.connect()\n",
        "\n",
        "# Set keyspace\n",
        "session.set_keyspace('assignment')\n",
        "\n",
        "# Confirm connection\n",
        "if session:\n",
        "    print(\"Connected!\")\n",
        "else:\n",
        "    print(\"Connection failed.\")\n"
      ]
    },
    {
      "cell_type": "code",
      "source": [
        "# Bronze Table\n",
        "session.execute(\"\"\"\n",
        "CREATE TABLE IF NOT EXISTS bronze_sales (\n",
        "    id UUID PRIMARY KEY,\n",
        "    region TEXT,\n",
        "    product TEXT,\n",
        "    customer TEXT,\n",
        "    total_revenue FLOAT,\n",
        "    total_profit FLOAT\n",
        ");\n",
        "\"\"\")\n",
        "\n",
        "# Silver Table\n",
        "session.execute(\"\"\"\n",
        "CREATE TABLE IF NOT EXISTS silver_sales (\n",
        "    id UUID PRIMARY KEY,\n",
        "    region TEXT,\n",
        "    product TEXT,\n",
        "    customer TEXT,\n",
        "    total_revenue FLOAT,\n",
        "    total_profit FLOAT\n",
        ");\n",
        "\"\"\")\n",
        "\n",
        "# Gold Tables\n",
        "session.execute(\"\"\"\n",
        "CREATE TABLE IF NOT EXISTS gold_sales_summary (\n",
        "    region TEXT PRIMARY KEY,\n",
        "    total_sales FLOAT\n",
        ");\n",
        "\"\"\")\n",
        "\n",
        "session.execute(\"\"\"\n",
        "CREATE TABLE IF NOT EXISTS gold_top_customers (\n",
        "    customer TEXT PRIMARY KEY,\n",
        "    total_revenue FLOAT\n",
        ");\n",
        "\"\"\")\n",
        "\n",
        "session.execute(\"\"\"\n",
        "CREATE TABLE IF NOT EXISTS gold_product_performance (\n",
        "    product TEXT PRIMARY KEY,\n",
        "    total_sales FLOAT\n",
        ");\n",
        "\"\"\")\n",
        "\n",
        "print(\"Tables created successfully.\")\n"
      ],
      "metadata": {
        "colab": {
          "base_uri": "https://localhost:8080/"
        },
        "id": "Jzgk4RZ-hoGj",
        "outputId": "2697600c-b2f0-4dac-e48b-3b62c9f38598"
      },
      "execution_count": 23,
      "outputs": [
        {
          "output_type": "stream",
          "name": "stdout",
          "text": [
            "Tables created successfully.\n"
          ]
        }
      ]
    },
    {
      "cell_type": "code",
      "source": [
        "import pandas as pd\n",
        "import uuid\n",
        "\n",
        "# Load the raw data from the CSV\n",
        "file_path = \"sales_100.csv\"  # Ensure you upload this file to Colab\n",
        "bronze_data = pd.read_csv(file_path)\n",
        "\n",
        "print(\"Data loaded successfully.\")\n",
        "bronze_data.head()\n"
      ],
      "metadata": {
        "colab": {
          "base_uri": "https://localhost:8080/",
          "height": 434
        },
        "id": "iujHrzNEhoNU",
        "outputId": "6543eed2-84d8-4446-f766-c2a156cabe23"
      },
      "execution_count": 24,
      "outputs": [
        {
          "output_type": "stream",
          "name": "stdout",
          "text": [
            "Data loaded successfully.\n"
          ]
        },
        {
          "output_type": "execute_result",
          "data": {
            "text/plain": [
              "                         Region           Country  Item Type Sales Channel  \\\n",
              "0            Sub-Saharan Africa      South Africa     Fruits       Offline   \n",
              "1  Middle East and North Africa           Morocco    Clothes        Online   \n",
              "2         Australia and Oceania  Papua New Guinea       Meat       Offline   \n",
              "3            Sub-Saharan Africa          Djibouti    Clothes       Offline   \n",
              "4                        Europe          Slovakia  Beverages       Offline   \n",
              "\n",
              "  Order Priority  Order Date   Order ID   Ship Date  UnitsSold  UnitPrice  \\\n",
              "0              M   7/27/2012  443368995   7/28/2012       1593       9.33   \n",
              "1              M   9/14/2013  667593514  10/19/2013       4611     109.28   \n",
              "2              M   5/15/2015  940995585    6/4/2015        360     421.89   \n",
              "3              H   5/17/2017  880811536    7/2/2017        562     109.28   \n",
              "4              L  10/26/2016  174590194   12/4/2016       3973      47.45   \n",
              "\n",
              "   UnitCost  TotalRevenue  TotalCost  TotalProfit  \n",
              "0      6.92      14862.69   11023.56      3839.13  \n",
              "1     35.84     503890.08  165258.24    338631.84  \n",
              "2    364.69     151880.40  131288.40     20592.00  \n",
              "3     35.84      61415.36   20142.08     41273.28  \n",
              "4     31.79     188518.85  126301.67     62217.18  "
            ],
            "text/html": [
              "\n",
              "  <div id=\"df-ace1acb4-887f-43f5-ba0e-8259f7f2b765\" class=\"colab-df-container\">\n",
              "    <div>\n",
              "<style scoped>\n",
              "    .dataframe tbody tr th:only-of-type {\n",
              "        vertical-align: middle;\n",
              "    }\n",
              "\n",
              "    .dataframe tbody tr th {\n",
              "        vertical-align: top;\n",
              "    }\n",
              "\n",
              "    .dataframe thead th {\n",
              "        text-align: right;\n",
              "    }\n",
              "</style>\n",
              "<table border=\"1\" class=\"dataframe\">\n",
              "  <thead>\n",
              "    <tr style=\"text-align: right;\">\n",
              "      <th></th>\n",
              "      <th>Region</th>\n",
              "      <th>Country</th>\n",
              "      <th>Item Type</th>\n",
              "      <th>Sales Channel</th>\n",
              "      <th>Order Priority</th>\n",
              "      <th>Order Date</th>\n",
              "      <th>Order ID</th>\n",
              "      <th>Ship Date</th>\n",
              "      <th>UnitsSold</th>\n",
              "      <th>UnitPrice</th>\n",
              "      <th>UnitCost</th>\n",
              "      <th>TotalRevenue</th>\n",
              "      <th>TotalCost</th>\n",
              "      <th>TotalProfit</th>\n",
              "    </tr>\n",
              "  </thead>\n",
              "  <tbody>\n",
              "    <tr>\n",
              "      <th>0</th>\n",
              "      <td>Sub-Saharan Africa</td>\n",
              "      <td>South Africa</td>\n",
              "      <td>Fruits</td>\n",
              "      <td>Offline</td>\n",
              "      <td>M</td>\n",
              "      <td>7/27/2012</td>\n",
              "      <td>443368995</td>\n",
              "      <td>7/28/2012</td>\n",
              "      <td>1593</td>\n",
              "      <td>9.33</td>\n",
              "      <td>6.92</td>\n",
              "      <td>14862.69</td>\n",
              "      <td>11023.56</td>\n",
              "      <td>3839.13</td>\n",
              "    </tr>\n",
              "    <tr>\n",
              "      <th>1</th>\n",
              "      <td>Middle East and North Africa</td>\n",
              "      <td>Morocco</td>\n",
              "      <td>Clothes</td>\n",
              "      <td>Online</td>\n",
              "      <td>M</td>\n",
              "      <td>9/14/2013</td>\n",
              "      <td>667593514</td>\n",
              "      <td>10/19/2013</td>\n",
              "      <td>4611</td>\n",
              "      <td>109.28</td>\n",
              "      <td>35.84</td>\n",
              "      <td>503890.08</td>\n",
              "      <td>165258.24</td>\n",
              "      <td>338631.84</td>\n",
              "    </tr>\n",
              "    <tr>\n",
              "      <th>2</th>\n",
              "      <td>Australia and Oceania</td>\n",
              "      <td>Papua New Guinea</td>\n",
              "      <td>Meat</td>\n",
              "      <td>Offline</td>\n",
              "      <td>M</td>\n",
              "      <td>5/15/2015</td>\n",
              "      <td>940995585</td>\n",
              "      <td>6/4/2015</td>\n",
              "      <td>360</td>\n",
              "      <td>421.89</td>\n",
              "      <td>364.69</td>\n",
              "      <td>151880.40</td>\n",
              "      <td>131288.40</td>\n",
              "      <td>20592.00</td>\n",
              "    </tr>\n",
              "    <tr>\n",
              "      <th>3</th>\n",
              "      <td>Sub-Saharan Africa</td>\n",
              "      <td>Djibouti</td>\n",
              "      <td>Clothes</td>\n",
              "      <td>Offline</td>\n",
              "      <td>H</td>\n",
              "      <td>5/17/2017</td>\n",
              "      <td>880811536</td>\n",
              "      <td>7/2/2017</td>\n",
              "      <td>562</td>\n",
              "      <td>109.28</td>\n",
              "      <td>35.84</td>\n",
              "      <td>61415.36</td>\n",
              "      <td>20142.08</td>\n",
              "      <td>41273.28</td>\n",
              "    </tr>\n",
              "    <tr>\n",
              "      <th>4</th>\n",
              "      <td>Europe</td>\n",
              "      <td>Slovakia</td>\n",
              "      <td>Beverages</td>\n",
              "      <td>Offline</td>\n",
              "      <td>L</td>\n",
              "      <td>10/26/2016</td>\n",
              "      <td>174590194</td>\n",
              "      <td>12/4/2016</td>\n",
              "      <td>3973</td>\n",
              "      <td>47.45</td>\n",
              "      <td>31.79</td>\n",
              "      <td>188518.85</td>\n",
              "      <td>126301.67</td>\n",
              "      <td>62217.18</td>\n",
              "    </tr>\n",
              "  </tbody>\n",
              "</table>\n",
              "</div>\n",
              "    <div class=\"colab-df-buttons\">\n",
              "\n",
              "  <div class=\"colab-df-container\">\n",
              "    <button class=\"colab-df-convert\" onclick=\"convertToInteractive('df-ace1acb4-887f-43f5-ba0e-8259f7f2b765')\"\n",
              "            title=\"Convert this dataframe to an interactive table.\"\n",
              "            style=\"display:none;\">\n",
              "\n",
              "  <svg xmlns=\"http://www.w3.org/2000/svg\" height=\"24px\" viewBox=\"0 -960 960 960\">\n",
              "    <path d=\"M120-120v-720h720v720H120Zm60-500h600v-160H180v160Zm220 220h160v-160H400v160Zm0 220h160v-160H400v160ZM180-400h160v-160H180v160Zm440 0h160v-160H620v160ZM180-180h160v-160H180v160Zm440 0h160v-160H620v160Z\"/>\n",
              "  </svg>\n",
              "    </button>\n",
              "\n",
              "  <style>\n",
              "    .colab-df-container {\n",
              "      display:flex;\n",
              "      gap: 12px;\n",
              "    }\n",
              "\n",
              "    .colab-df-convert {\n",
              "      background-color: #E8F0FE;\n",
              "      border: none;\n",
              "      border-radius: 50%;\n",
              "      cursor: pointer;\n",
              "      display: none;\n",
              "      fill: #1967D2;\n",
              "      height: 32px;\n",
              "      padding: 0 0 0 0;\n",
              "      width: 32px;\n",
              "    }\n",
              "\n",
              "    .colab-df-convert:hover {\n",
              "      background-color: #E2EBFA;\n",
              "      box-shadow: 0px 1px 2px rgba(60, 64, 67, 0.3), 0px 1px 3px 1px rgba(60, 64, 67, 0.15);\n",
              "      fill: #174EA6;\n",
              "    }\n",
              "\n",
              "    .colab-df-buttons div {\n",
              "      margin-bottom: 4px;\n",
              "    }\n",
              "\n",
              "    [theme=dark] .colab-df-convert {\n",
              "      background-color: #3B4455;\n",
              "      fill: #D2E3FC;\n",
              "    }\n",
              "\n",
              "    [theme=dark] .colab-df-convert:hover {\n",
              "      background-color: #434B5C;\n",
              "      box-shadow: 0px 1px 3px 1px rgba(0, 0, 0, 0.15);\n",
              "      filter: drop-shadow(0px 1px 2px rgba(0, 0, 0, 0.3));\n",
              "      fill: #FFFFFF;\n",
              "    }\n",
              "  </style>\n",
              "\n",
              "    <script>\n",
              "      const buttonEl =\n",
              "        document.querySelector('#df-ace1acb4-887f-43f5-ba0e-8259f7f2b765 button.colab-df-convert');\n",
              "      buttonEl.style.display =\n",
              "        google.colab.kernel.accessAllowed ? 'block' : 'none';\n",
              "\n",
              "      async function convertToInteractive(key) {\n",
              "        const element = document.querySelector('#df-ace1acb4-887f-43f5-ba0e-8259f7f2b765');\n",
              "        const dataTable =\n",
              "          await google.colab.kernel.invokeFunction('convertToInteractive',\n",
              "                                                    [key], {});\n",
              "        if (!dataTable) return;\n",
              "\n",
              "        const docLinkHtml = 'Like what you see? Visit the ' +\n",
              "          '<a target=\"_blank\" href=https://colab.research.google.com/notebooks/data_table.ipynb>data table notebook</a>'\n",
              "          + ' to learn more about interactive tables.';\n",
              "        element.innerHTML = '';\n",
              "        dataTable['output_type'] = 'display_data';\n",
              "        await google.colab.output.renderOutput(dataTable, element);\n",
              "        const docLink = document.createElement('div');\n",
              "        docLink.innerHTML = docLinkHtml;\n",
              "        element.appendChild(docLink);\n",
              "      }\n",
              "    </script>\n",
              "  </div>\n",
              "\n",
              "\n",
              "<div id=\"df-bbc91e2f-e698-480c-a07b-67befd8f2040\">\n",
              "  <button class=\"colab-df-quickchart\" onclick=\"quickchart('df-bbc91e2f-e698-480c-a07b-67befd8f2040')\"\n",
              "            title=\"Suggest charts\"\n",
              "            style=\"display:none;\">\n",
              "\n",
              "<svg xmlns=\"http://www.w3.org/2000/svg\" height=\"24px\"viewBox=\"0 0 24 24\"\n",
              "     width=\"24px\">\n",
              "    <g>\n",
              "        <path d=\"M19 3H5c-1.1 0-2 .9-2 2v14c0 1.1.9 2 2 2h14c1.1 0 2-.9 2-2V5c0-1.1-.9-2-2-2zM9 17H7v-7h2v7zm4 0h-2V7h2v10zm4 0h-2v-4h2v4z\"/>\n",
              "    </g>\n",
              "</svg>\n",
              "  </button>\n",
              "\n",
              "<style>\n",
              "  .colab-df-quickchart {\n",
              "      --bg-color: #E8F0FE;\n",
              "      --fill-color: #1967D2;\n",
              "      --hover-bg-color: #E2EBFA;\n",
              "      --hover-fill-color: #174EA6;\n",
              "      --disabled-fill-color: #AAA;\n",
              "      --disabled-bg-color: #DDD;\n",
              "  }\n",
              "\n",
              "  [theme=dark] .colab-df-quickchart {\n",
              "      --bg-color: #3B4455;\n",
              "      --fill-color: #D2E3FC;\n",
              "      --hover-bg-color: #434B5C;\n",
              "      --hover-fill-color: #FFFFFF;\n",
              "      --disabled-bg-color: #3B4455;\n",
              "      --disabled-fill-color: #666;\n",
              "  }\n",
              "\n",
              "  .colab-df-quickchart {\n",
              "    background-color: var(--bg-color);\n",
              "    border: none;\n",
              "    border-radius: 50%;\n",
              "    cursor: pointer;\n",
              "    display: none;\n",
              "    fill: var(--fill-color);\n",
              "    height: 32px;\n",
              "    padding: 0;\n",
              "    width: 32px;\n",
              "  }\n",
              "\n",
              "  .colab-df-quickchart:hover {\n",
              "    background-color: var(--hover-bg-color);\n",
              "    box-shadow: 0 1px 2px rgba(60, 64, 67, 0.3), 0 1px 3px 1px rgba(60, 64, 67, 0.15);\n",
              "    fill: var(--button-hover-fill-color);\n",
              "  }\n",
              "\n",
              "  .colab-df-quickchart-complete:disabled,\n",
              "  .colab-df-quickchart-complete:disabled:hover {\n",
              "    background-color: var(--disabled-bg-color);\n",
              "    fill: var(--disabled-fill-color);\n",
              "    box-shadow: none;\n",
              "  }\n",
              "\n",
              "  .colab-df-spinner {\n",
              "    border: 2px solid var(--fill-color);\n",
              "    border-color: transparent;\n",
              "    border-bottom-color: var(--fill-color);\n",
              "    animation:\n",
              "      spin 1s steps(1) infinite;\n",
              "  }\n",
              "\n",
              "  @keyframes spin {\n",
              "    0% {\n",
              "      border-color: transparent;\n",
              "      border-bottom-color: var(--fill-color);\n",
              "      border-left-color: var(--fill-color);\n",
              "    }\n",
              "    20% {\n",
              "      border-color: transparent;\n",
              "      border-left-color: var(--fill-color);\n",
              "      border-top-color: var(--fill-color);\n",
              "    }\n",
              "    30% {\n",
              "      border-color: transparent;\n",
              "      border-left-color: var(--fill-color);\n",
              "      border-top-color: var(--fill-color);\n",
              "      border-right-color: var(--fill-color);\n",
              "    }\n",
              "    40% {\n",
              "      border-color: transparent;\n",
              "      border-right-color: var(--fill-color);\n",
              "      border-top-color: var(--fill-color);\n",
              "    }\n",
              "    60% {\n",
              "      border-color: transparent;\n",
              "      border-right-color: var(--fill-color);\n",
              "    }\n",
              "    80% {\n",
              "      border-color: transparent;\n",
              "      border-right-color: var(--fill-color);\n",
              "      border-bottom-color: var(--fill-color);\n",
              "    }\n",
              "    90% {\n",
              "      border-color: transparent;\n",
              "      border-bottom-color: var(--fill-color);\n",
              "    }\n",
              "  }\n",
              "</style>\n",
              "\n",
              "  <script>\n",
              "    async function quickchart(key) {\n",
              "      const quickchartButtonEl =\n",
              "        document.querySelector('#' + key + ' button');\n",
              "      quickchartButtonEl.disabled = true;  // To prevent multiple clicks.\n",
              "      quickchartButtonEl.classList.add('colab-df-spinner');\n",
              "      try {\n",
              "        const charts = await google.colab.kernel.invokeFunction(\n",
              "            'suggestCharts', [key], {});\n",
              "      } catch (error) {\n",
              "        console.error('Error during call to suggestCharts:', error);\n",
              "      }\n",
              "      quickchartButtonEl.classList.remove('colab-df-spinner');\n",
              "      quickchartButtonEl.classList.add('colab-df-quickchart-complete');\n",
              "    }\n",
              "    (() => {\n",
              "      let quickchartButtonEl =\n",
              "        document.querySelector('#df-bbc91e2f-e698-480c-a07b-67befd8f2040 button');\n",
              "      quickchartButtonEl.style.display =\n",
              "        google.colab.kernel.accessAllowed ? 'block' : 'none';\n",
              "    })();\n",
              "  </script>\n",
              "</div>\n",
              "\n",
              "    </div>\n",
              "  </div>\n"
            ],
            "application/vnd.google.colaboratory.intrinsic+json": {
              "type": "dataframe",
              "variable_name": "bronze_data",
              "summary": "{\n  \"name\": \"bronze_data\",\n  \"rows\": 99,\n  \"fields\": [\n    {\n      \"column\": \"Region\",\n      \"properties\": {\n        \"dtype\": \"category\",\n        \"num_unique_values\": 7,\n        \"samples\": [\n          \"Sub-Saharan Africa\",\n          \"Middle East and North Africa\",\n          \"Central America and the Caribbean\"\n        ],\n        \"semantic_type\": \"\",\n        \"description\": \"\"\n      }\n    },\n    {\n      \"column\": \"Country\",\n      \"properties\": {\n        \"dtype\": \"string\",\n        \"num_unique_values\": 80,\n        \"samples\": [\n          \"Samoa \",\n          \"South Africa\",\n          \"Dominican Republic\"\n        ],\n        \"semantic_type\": \"\",\n        \"description\": \"\"\n      }\n    },\n    {\n      \"column\": \"Item Type\",\n      \"properties\": {\n        \"dtype\": \"category\",\n        \"num_unique_values\": 12,\n        \"samples\": [\n          \"Baby Food\",\n          \"Vegetables\",\n          \"Fruits\"\n        ],\n        \"semantic_type\": \"\",\n        \"description\": \"\"\n      }\n    },\n    {\n      \"column\": \"Sales Channel\",\n      \"properties\": {\n        \"dtype\": \"category\",\n        \"num_unique_values\": 2,\n        \"samples\": [\n          \"Online\",\n          \"Offline\"\n        ],\n        \"semantic_type\": \"\",\n        \"description\": \"\"\n      }\n    },\n    {\n      \"column\": \"Order Priority\",\n      \"properties\": {\n        \"dtype\": \"category\",\n        \"num_unique_values\": 4,\n        \"samples\": [\n          \"H\",\n          \"C\"\n        ],\n        \"semantic_type\": \"\",\n        \"description\": \"\"\n      }\n    },\n    {\n      \"column\": \"Order Date\",\n      \"properties\": {\n        \"dtype\": \"object\",\n        \"num_unique_values\": 96,\n        \"samples\": [\n          \"10/22/2012\",\n          \"11/2/2011\"\n        ],\n        \"semantic_type\": \"\",\n        \"description\": \"\"\n      }\n    },\n    {\n      \"column\": \"Order ID\",\n      \"properties\": {\n        \"dtype\": \"number\",\n        \"std\": 252424009,\n        \"min\": 101328551,\n        \"max\": 955894076,\n        \"num_unique_values\": 99,\n        \"samples\": [\n          294530856,\n          925136649\n        ],\n        \"semantic_type\": \"\",\n        \"description\": \"\"\n      }\n    },\n    {\n      \"column\": \"Ship Date\",\n      \"properties\": {\n        \"dtype\": \"object\",\n        \"num_unique_values\": 98,\n        \"samples\": [\n          \"8/27/2014\",\n          \"7/13/2016\"\n        ],\n        \"semantic_type\": \"\",\n        \"description\": \"\"\n      }\n    },\n    {\n      \"column\": \"UnitsSold\",\n      \"properties\": {\n        \"dtype\": \"number\",\n        \"std\": 2992,\n        \"min\": 259,\n        \"max\": 9976,\n        \"num_unique_values\": 98,\n        \"samples\": [\n          7080,\n          7348\n        ],\n        \"semantic_type\": \"\",\n        \"description\": \"\"\n      }\n    },\n    {\n      \"column\": \"UnitPrice\",\n      \"properties\": {\n        \"dtype\": \"number\",\n        \"std\": 233.45890763050895,\n        \"min\": 9.33,\n        \"max\": 668.27,\n        \"num_unique_values\": 12,\n        \"samples\": [\n          255.28,\n          154.06\n        ],\n        \"semantic_type\": \"\",\n        \"description\": \"\"\n      }\n    },\n    {\n      \"column\": \"UnitCost\",\n      \"properties\": {\n        \"dtype\": \"number\",\n        \"std\": 185.36558568070714,\n        \"min\": 6.92,\n        \"max\": 524.96,\n        \"num_unique_values\": 12,\n        \"samples\": [\n          159.42,\n          90.93\n        ],\n        \"semantic_type\": \"\",\n        \"description\": \"\"\n      }\n    },\n    {\n      \"column\": \"TotalRevenue\",\n      \"properties\": {\n        \"dtype\": \"number\",\n        \"std\": 1724089.5308848463,\n        \"min\": 12343.59,\n        \"max\": 6666661.52,\n        \"num_unique_values\": 99,\n        \"samples\": [\n          1456356.0,\n          802989.44\n        ],\n        \"semantic_type\": \"\",\n        \"description\": \"\"\n      }\n    },\n    {\n      \"column\": \"TotalCost\",\n      \"properties\": {\n        \"dtype\": \"number\",\n        \"std\": 1337149.1198621995,\n        \"min\": 9155.16,\n        \"max\": 5051690.08,\n        \"num_unique_values\": 99,\n        \"samples\": [\n          829138.8,\n          263352.32\n        ],\n        \"semantic_type\": \"\",\n        \"description\": \"\"\n      }\n    },\n    {\n      \"column\": \"TotalProfit\",\n      \"properties\": {\n        \"dtype\": \"number\",\n        \"std\": 450388.70684659405,\n        \"min\": 3188.43,\n        \"max\": 1681149.03,\n        \"num_unique_values\": 99,\n        \"samples\": [\n          627217.2,\n          539637.12\n        ],\n        \"semantic_type\": \"\",\n        \"description\": \"\"\n      }\n    }\n  ]\n}"
            }
          },
          "metadata": {},
          "execution_count": 24
        }
      ]
    },
    {
      "cell_type": "code",
      "source": [
        "# Insert raw data into Bronze Table\n",
        "for _, row in bronze_data.iterrows():\n",
        "    query = f\"\"\"\n",
        "    INSERT INTO bronze_sales (id, region, product, customer, total_revenue, total_profit)\n",
        "    VALUES ({uuid.uuid4()}, '{row['Region']}', '{row['Item Type']}', '{row['Country']}', {row['TotalRevenue']}, {row['TotalProfit']});\n",
        "    \"\"\"\n",
        "    session.execute(query)\n",
        "\n",
        "print(\"Data inserted into Bronze table.\")\n"
      ],
      "metadata": {
        "colab": {
          "base_uri": "https://localhost:8080/"
        },
        "id": "19z44FVBhoQu",
        "outputId": "8d63dcdd-0766-4882-caf6-f6588799c303"
      },
      "execution_count": 25,
      "outputs": [
        {
          "output_type": "stream",
          "name": "stdout",
          "text": [
            "Data inserted into Bronze table.\n"
          ]
        }
      ]
    },
    {
      "cell_type": "code",
      "source": [
        "# Clean data (remove duplicates and null values)\n",
        "silver_data = bronze_data.dropna().drop_duplicates()\n",
        "\n",
        "# Insert cleaned data into Silver Table\n",
        "for _, row in silver_data.iterrows():\n",
        "    query = f\"\"\"\n",
        "    INSERT INTO silver_sales (id, region, product, customer, total_revenue, total_profit)\n",
        "    VALUES ({uuid.uuid4()}, '{row['Region']}', '{row['Item Type']}', '{row['Country']}', {row['TotalRevenue']}, {row['TotalProfit']});\n",
        "    \"\"\"\n",
        "    session.execute(query)\n",
        "\n",
        "print(\"Data inserted into Silver table.\")\n"
      ],
      "metadata": {
        "colab": {
          "base_uri": "https://localhost:8080/"
        },
        "id": "uZwmg_WPjz8B",
        "outputId": "301dc20d-0078-4e42-d515-8ad36c76e32a"
      },
      "execution_count": 26,
      "outputs": [
        {
          "output_type": "stream",
          "name": "stdout",
          "text": [
            "Data inserted into Silver table.\n"
          ]
        }
      ]
    },
    {
      "cell_type": "code",
      "source": [
        "# Group by Region\n",
        "sales_by_region = silver_data.groupby('Region')['TotalRevenue'].sum().reset_index()\n",
        "\n",
        "# Insert into Gold Sales Summary Table\n",
        "for _, row in sales_by_region.iterrows():\n",
        "    query = f\"\"\"\n",
        "    INSERT INTO gold_sales_summary (region, total_sales)\n",
        "    VALUES ('{row['Region']}', {row['TotalRevenue']});\n",
        "    \"\"\"\n",
        "    session.execute(query)\n",
        "\n",
        "print(\"Data inserted into Gold Sales Summary table.\")\n"
      ],
      "metadata": {
        "colab": {
          "base_uri": "https://localhost:8080/"
        },
        "id": "83pUUDiyjz_P",
        "outputId": "fb75ae4c-96a6-400e-884f-174b162e68cb"
      },
      "execution_count": 27,
      "outputs": [
        {
          "output_type": "stream",
          "name": "stdout",
          "text": [
            "Data inserted into Gold Sales Summary table.\n"
          ]
        }
      ]
    },
    {
      "cell_type": "code",
      "source": [
        "# Group by Customer\n",
        "top_customers = silver_data.groupby('Country')['TotalRevenue'].sum().nlargest(10).reset_index()\n",
        "\n",
        "# Insert into Gold Top Customers Table\n",
        "for _, row in top_customers.iterrows():\n",
        "    query = f\"\"\"\n",
        "    INSERT INTO gold_top_customers (customer, total_revenue)\n",
        "    VALUES ('{row['Country']}', {row['TotalRevenue']});\n",
        "    \"\"\"\n",
        "    session.execute(query)\n",
        "\n",
        "print(\"Data inserted into Gold Top Customers table.\")\n"
      ],
      "metadata": {
        "colab": {
          "base_uri": "https://localhost:8080/"
        },
        "id": "Sgr-0LGNj8uV",
        "outputId": "602ef57f-e8f0-4265-c7aa-df8751b95484"
      },
      "execution_count": 28,
      "outputs": [
        {
          "output_type": "stream",
          "name": "stdout",
          "text": [
            "Data inserted into Gold Top Customers table.\n"
          ]
        }
      ]
    },
    {
      "cell_type": "code",
      "source": [
        "# Group by Product\n",
        "product_performance = silver_data.groupby('Item Type')['TotalRevenue'].sum().reset_index()\n",
        "\n",
        "# Insert into Gold Product Performance Table\n",
        "for _, row in product_performance.iterrows():\n",
        "    query = f\"\"\"\n",
        "    INSERT INTO gold_product_performance (product, total_sales)\n",
        "    VALUES ('{row['Item Type']}', {row['TotalRevenue']});\n",
        "    \"\"\"\n",
        "    session.execute(query)\n",
        "\n",
        "print(\"Data inserted into Gold Product Performance table.\")\n"
      ],
      "metadata": {
        "colab": {
          "base_uri": "https://localhost:8080/"
        },
        "id": "yzdkG4Pcj9vM",
        "outputId": "90abe818-cdf1-43a9-b4f6-0a35bb294ba5"
      },
      "execution_count": 29,
      "outputs": [
        {
          "output_type": "stream",
          "name": "stdout",
          "text": [
            "Data inserted into Gold Product Performance table.\n"
          ]
        }
      ]
    },
    {
      "cell_type": "code",
      "source": [
        "# Query Gold Table Data\n",
        "rows = session.execute(\"SELECT * FROM 'gold_sales_summary';\")\n",
        "print(\"Gold Sales Summary:\")\n",
        "for row in rows:\n",
        "    print(row)\n",
        "\n",
        "rows = session.execute(\"SELECT * FROM gold_top_customers;\")\n",
        "print(\"Gold Top Customers:\")\n",
        "for row in rows:\n",
        "    print(row)\n",
        "\n",
        "rows = session.execute(\"SELECT * FROM gold_product_performance;\")\n",
        "print(\"Gold Product Performance:\")\n",
        "for row in rows:\n",
        "    print(row)\n"
      ],
      "metadata": {
        "colab": {
          "base_uri": "https://localhost:8080/"
        },
        "id": "ZrfacqkDk6Z-",
        "outputId": "8556aa2f-aba9-40ef-da63-39357c51d0d4"
      },
      "execution_count": 30,
      "outputs": [
        {
          "output_type": "stream",
          "name": "stdout",
          "text": [
            "Gold Sales Summary:\n",
            "Row(region='Australia and Oceania', total_sales=10711258.0)\n",
            "Row(region='Europe', total_sales=34964748.0)\n",
            "Row(region='Middle East and North Africa', total_sales=24765128.0)\n",
            "Row(region='Central America and the Caribbean', total_sales=17570836.0)\n",
            "Row(region='Asia', total_sales=28840812.0)\n",
            "Row(region='Sub-Saharan Africa', total_sales=24225438.0)\n",
            "Row(region='North America', total_sales=3611757.5)\n",
            "Gold Top Customers:\n",
            "Row(customer='Nicaragua', total_revenue=5944506.0)\n",
            "Row(customer='Estonia', total_revenue=6666661.5)\n",
            "Row(customer='Dominica', total_revenue=5006276.5)\n",
            "Row(customer='Antigua and Barbuda ', total_revenue=4100669.25)\n",
            "Row(customer='Algeria', total_revenue=4227287.0)\n",
            "Row(customer='Finland', total_revenue=5552598.0)\n",
            "Row(customer='Pakistan', total_revenue=4205821.5)\n",
            "Row(customer='United Arab Emirates', total_revenue=6253569.5)\n",
            "Row(customer='Japan', total_revenue=5608790.0)\n",
            "Row(customer='Zimbabwe', total_revenue=6266594.0)\n",
            "Gold Product Performance:\n",
            "Row(product='Household', total_sales=38519084.0)\n",
            "Row(product='Office Supplies', total_sales=27880904.0)\n",
            "Row(product='Vegetables', total_sales=1135114.125)\n",
            "Row(product='Snacks', total_sales=2193642.75)\n",
            "Row(product='Personal Care', total_sales=3191147.75)\n",
            "Row(product='Meat', total_sales=21278866.0)\n",
            "Row(product='Fruits', total_sales=615033.625)\n",
            "Row(product='Beverages', total_sales=2145024.75)\n",
            "Row(product='Cereal', total_sales=9416123.0)\n",
            "Row(product='Cosmetics', total_sales=28727100.0)\n",
            "Row(product='Baby Food', total_sales=5200564.0)\n",
            "Row(product='Clothes', total_sales=4387373.5)\n"
          ]
        }
      ]
    }
  ]
}